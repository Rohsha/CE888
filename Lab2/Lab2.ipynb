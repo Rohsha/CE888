{
  "nbformat": 4,
  "nbformat_minor": 0,
  "metadata": {
    "kernelspec": {
      "name": "python3",
      "display_name": "Python 3"
    },
    "language_info": {
      "codemirror_mode": {
        "name": "ipython",
        "version": 2
      },
      "file_extension": ".py",
      "mimetype": "text/x-python",
      "name": "python",
      "nbconvert_exporter": "python",
      "pygments_lexer": "ipython2",
      "version": "2.7.6"
    },
    "pycharm": {
      "stem_cell": {
        "cell_type": "raw",
        "source": [],
        "metadata": {
          "collapsed": false
        }
      }
    },
    "colab": {
      "name": "bootstrap.ipynb",
      "provenance": [],
      "collapsed_sections": [],
      "include_colab_link": true
    },
    "accelerator": "GPU"
  },
  "cells": [
    {
      "cell_type": "markdown",
      "metadata": {
        "id": "view-in-github",
        "colab_type": "text"
      },
      "source": [
        "<a href=\"https://colab.research.google.com/github/Rohsha/datasciencecoursera/blob/master/bootstrap.ipynb\" target=\"_parent\"><img src=\"https://colab.research.google.com/assets/colab-badge.svg\" alt=\"Open In Colab\"/></a>"
      ]
    },
    {
      "cell_type": "markdown",
      "metadata": {
        "id": "nCi_99yMYIb1",
        "colab_type": "text"
      },
      "source": [
        "In this notebook you'll create your own bootstrap function following the bootstrap algorithm (check the lecture notes!)"
      ]
    },
    {
      "cell_type": "code",
      "metadata": {
        "pycharm": {
          "name": "#%%# Imports\n"
        },
        "id": "LY5zujI2YC37",
        "colab_type": "code",
        "colab": {}
      },
      "source": [
        "import matplotlib\n",
        "import pandas as pd\n",
        "import seaborn as sns\n",
        "import numpy as np\n",
        "\n"
      ],
      "execution_count": 0,
      "outputs": []
    },
    {
      "cell_type": "code",
      "metadata": {
        "id": "Eqkwj4SMY38t",
        "colab_type": "code",
        "colab": {}
      },
      "source": [
        "# Load the data\n",
        "df = pd.read_csv('https://raw.githubusercontent.com/albanda/CE888/master/lab2%20-%20bootstrap/customers.csv')\n",
        "data = df.values.T[1]\n"
      ],
      "execution_count": 0,
      "outputs": []
    },
    {
      "cell_type": "code",
      "metadata": {
        "pycharm": {
          "name": "#%%\n"
        },
        "id": "Gxvc_bScYC4H",
        "colab_type": "code",
        "colab": {}
      },
      "source": [
        "# Checking the notes from the lecture, create here your own bootstrap function:\n",
        "# 1. Create an array of samples of shape (n_iterations, sample_size)\n",
        "# 2. Calculate and save the mean of the array (this is \"data_mean\" that is returned by the function)\n",
        "# 3. In each iteration:\n",
        "# 3.1 Get the data corresponding to that iteration (new_samples[iteration, :])\n",
        "# 3.2 Calculate the mean of the iteration data and store it\n",
        "# (At this point you should have an array of n_iterations values)\n",
        "# 4. Calculate the lower and upper bounds for a 95% CI (hint: check the percentile function on Numpy)\n",
        "# 5. Return data_mean, and the lower and upper bounds of your interval\n",
        "def boostrap_mean(sample, sample_size, n_iterations):\n",
        "\t# <---INSERT YOUR CODE HERE--->\n",
        "\treturn data_mean, lower, upper\n"
      ],
      "execution_count": 0,
      "outputs": []
    },
    {
      "cell_type": "code",
      "metadata": {
        "id": "KSYSLtL66Vzw",
        "colab_type": "code",
        "colab": {}
      },
      "source": [
        "def boostrap_mean(sample, sample_size, n_iterations):\n",
        "  import random \n",
        "  \n",
        "  data_mean11=np.array([])\n",
        "  for i in range(n_iterations):\n",
        "    sample1=np.random.choice(sample,size=5)\n",
        "    data_mean1=np.mean(sample1)\n",
        "    data_mean11=np.append(data_mean11,data_mean1)\n",
        "  data_mean=np.mean(data_mean11)  \n",
        "  print (data_mean)\n",
        "  lower=np.percentile(data_mean11,5)\n",
        "  upper=np.percentile(data_mean11,95)\n",
        "  return data_mean,lower,upper\n"
      ],
      "execution_count": 0,
      "outputs": []
    },
    {
      "cell_type": "code",
      "metadata": {
        "pycharm": {
          "name": "#%%\n"
        },
        "id": "AN7sEOcMYC4P",
        "colab_type": "code",
        "colab": {
          "base_uri": "https://localhost:8080/",
          "height": 1000
        },
        "outputId": "5814ae13-d5f0-40b8-83e5-ed1e578f856b"
      },
      "source": [
        "# Call your bootstrap function and plot the results\n",
        "\n",
        "boots = []\n",
        "for i in range(100, 100000, 1000):\n",
        "    boot = boostrap_mean(data, data.shape[0], i)\n",
        "    boots.append([i, boot[0], \"mean\"])\n",
        "    boots.append([i, boot[1], \"lower\"])\n",
        "    boots.append([i, boot[2], \"upper\"])\n",
        "\n",
        "df_boot = pd.DataFrame(boots, columns=['Boostrap Iterations', 'Mean', \"Value\"])\n",
        "sns_plot = sns.lmplot(df_boot.columns[0], df_boot.columns[1], data=df_boot, fit_reg=False, hue=\"Value\")\n",
        "\n",
        "sns_plot.axes[0, 0].set_ylim(0,)\n",
        "sns_plot.axes[0, 0].set_xlim(0, 100000)\n",
        "\n",
        "#sns_plot.savefig(\"bootstrap_confidence.png\", bbox_inches='tight')\n",
        "#sns_plot.savefig(\"bootstrap_confidence.pdf\", bbox_inches='tight')\n",
        "\n"
      ],
      "execution_count": 29,
      "outputs": [
        {
          "output_type": "stream",
          "text": [
            "8.833999999999998\n",
            "9.282363636363636\n",
            "9.160190476190477\n",
            "9.208645161290324\n",
            "9.27170731707317\n",
            "9.16164705882353\n",
            "9.218754098360655\n",
            "9.172507042253521\n",
            "9.19451851851852\n",
            "9.188703296703297\n",
            "9.247049504950496\n",
            "9.215099099099099\n",
            "9.197636363636363\n",
            "9.183526717557251\n",
            "9.205219858156028\n",
            "9.248490066225164\n",
            "9.216968944099378\n",
            "9.214771929824561\n",
            "9.2159226519337\n",
            "9.23806282722513\n",
            "9.21118407960199\n",
            "9.185696682464455\n",
            "9.192615384615385\n",
            "9.188329004329006\n",
            "9.244572614107884\n",
            "9.206669322709162\n",
            "9.23183908045977\n",
            "9.219712177121771\n",
            "9.19735231316726\n",
            "9.207127147766323\n",
            "9.20136877076412\n",
            "9.23789067524116\n",
            "9.199183800623054\n",
            "9.2174501510574\n",
            "9.229536656891495\n",
            "9.2397150997151\n",
            "9.187822714681442\n",
            "9.22332614555256\n",
            "9.201149606299214\n",
            "9.212204603580561\n",
            "9.2173216957606\n",
            "9.213163017031631\n",
            "9.218836104513064\n",
            "9.215958236658933\n",
            "9.192625850340136\n",
            "9.218181818181819\n",
            "9.217605206073753\n",
            "9.229970276008494\n",
            "9.235937629937629\n",
            "9.214297352342157\n",
            "9.223536926147704\n",
            "9.224242661448141\n",
            "9.21509404990403\n",
            "9.226233521657251\n",
            "9.21630314232902\n",
            "9.223912885662433\n",
            "9.20589661319073\n",
            "9.223159369527146\n",
            "9.206843373493976\n",
            "9.212128595600676\n",
            "9.208193011647255\n",
            "9.210700490998365\n",
            "9.197648953301128\n",
            "9.210405705229794\n",
            "9.229600624024961\n",
            "9.199149001536098\n",
            "9.220928895612708\n",
            "9.212587183308495\n",
            "9.225259911894273\n",
            "9.231762662807524\n",
            "9.2189272467903\n",
            "9.201760900140647\n",
            "9.209905686546465\n",
            "9.224290013679889\n",
            "9.221249662618083\n",
            "9.232844207723037\n",
            "9.230909329829172\n",
            "9.21110765239948\n",
            "9.224704225352111\n",
            "9.216477876106197\n",
            "9.221353308364545\n",
            "9.209127003699138\n",
            "9.216816077953714\n",
            "9.242127557160048\n",
            "9.218209274673008\n",
            "9.211351351351352\n",
            "9.22567711962834\n",
            "9.211797933409873\n",
            "9.210401816118049\n",
            "9.220015712682379\n",
            "9.222792452830188\n",
            "9.22007025246981\n",
            "9.21586753528773\n",
            "9.217419978517722\n",
            "9.215912858660998\n",
            "9.214418506834912\n",
            "9.222522372528617\n",
            "9.21064675592173\n",
            "9.219877675840978\n",
            "9.214450050454086\n"
          ],
          "name": "stdout"
        },
        {
          "output_type": "execute_result",
          "data": {
            "text/plain": [
              "(0, 100000)"
            ]
          },
          "metadata": {
            "tags": []
          },
          "execution_count": 29
        },
        {
          "output_type": "display_data",
          "data": {
            "image/png": "[encoded data removed]",
            "text/plain": [
              "<Figure size 425.125x360 with 1 Axes>"
            ]
          },
          "metadata": {
            "tags": []
          }
        }
      ]
    },
    {
      "cell_type": "markdown",
      "metadata": {
        "collapsed": false,
        "id": "MjtP4e2_YC4V",
        "colab_type": "text"
      },
      "source": [
        "\n",
        "Now, modify the bootstrap function so that you can pass your desired confidence interval as a parameter.\n",
        "\n"
      ]
    },
    {
      "cell_type": "code",
      "metadata": {
        "id": "3K9j0FuGYhHs",
        "colab_type": "code",
        "colab": {}
      },
      "source": [
        "def boostrap_mean_ci(sample, sample_size, iterations, ci):\n",
        "\tdata_mean11=np.array([])\n",
        "\tfor i in range(n_iterations):\n",
        "\t\tsample1=np.random.choice(sample,size=5)\n",
        "\t\tdata_mean1=np.mean(sample1)\n",
        "\t\tdata_mean11=np.append(data_mean11,data_mean1)\n",
        "\tdata_mean=np.mean(data_mean11)  \n",
        "\tlower=np.percentile(data_mean11,100-ci)\n",
        "\tupper=np.percentile(data_mean11,ci)\n",
        "\treturn data_mean,lower,upper\n",
        "\t\n",
        "\t"
      ],
      "execution_count": 0,
      "outputs": []
    },
    {
      "cell_type": "code",
      "metadata": {
        "id": "uDnjq08GYl-C",
        "colab_type": "code",
        "colab": {}
      },
      "source": [
        "\n",
        "boots = []\n",
        "for i in range(100, 100000, 1000):\n",
        "    boot = boostrap_mean_ci(data, data.shape[0], i, 80)\n",
        "    boots.append([i, boot[0], \"mean\"])\n",
        "    boots.append([i, boot[1], \"lower\"])\n",
        "    boots.append([i, boot[2], \"upper\"])\n",
        "\n",
        "df_boot = pd.DataFrame(boots, columns=['Boostrap Iterations', 'Mean', \"Value\"])\n",
        "sns_plot = sns.lmplot(df_boot.columns[0], df_boot.columns[1], data=df_boot, fit_reg=False, hue=\"Value\")\n",
        "\n",
        "sns_plot.axes[0, 0].set_ylim(0,)\n",
        "sns_plot.axes[0, 0].set_xlim(0, 100000)\n",
        "\n",
        "sns_plot.savefig(\"bootstrap_confidence_80.png\", bbox_inches='tight')\n",
        "sns_plot.savefig(\"bootstrap_confidence_80.pdf\", bbox_inches='tight')\n"
      ],
      "execution_count": 0,
      "outputs": []
    },
    {
      "cell_type": "markdown",
      "metadata": {
        "id": "qjNgXW6wdd7r",
        "colab_type": "text"
      },
      "source": [
        "# Vehicles dataset\n",
        "\n",
        "Now let's work on a different dataset. Load the vehicles.csv file and check the Moodle page for instructions on how to proceed\n"
      ]
    },
    {
      "cell_type": "code",
      "metadata": {
        "id": "avWv4ipFdpka",
        "colab_type": "code",
        "colab": {
          "base_uri": "https://localhost:8080/",
          "height": 357
        },
        "outputId": "465c87d7-6a9d-4f96-b8dc-4181cd070eab"
      },
      "source": [
        "# Load and visualise the vehicles dataset\n",
        "# <---INSERT YOUR CODE HERE--->\n",
        "# Note: you can add more cells as needed to organise your code and your plots\n",
        "df = pd.read_csv('https://raw.githubusercontent.com/albanda/CE888/master/lab2%20-%20bootstrap/vehicles.csv')\n",
        "data1=df.values.T[0]\n",
        "data2 = df.values.T[1]\n",
        "data2"
      ],
      "execution_count": 37,
      "outputs": [
        {
          "output_type": "execute_result",
          "data": {
            "text/plain": [
              "array([24., 27., 27., 25., 31., 35., 24., 19., 28., 23., 27., 20., 22.,\n",
              "       18., 20., 31., 32., 31., 32., 24., 26., 29., 24., 24., 33., 33.,\n",
              "       32., 28., 19., 32., 34., 26., 30., 22., 22., 33., 39., 36., 28.,\n",
              "       27., 21., 24., 30., 34., 32., 38., 37., 30., 31., 37., 32., 47.,\n",
              "       41., 45., 34., 33., 24., 32., 39., 35., 32., 37., 38., 34., 34.,\n",
              "       32., 33., 32., 25., 24., 37., 31., 36., 36., 34., 38., 32., 38.,\n",
              "       32., nan, nan, nan, nan, nan, nan, nan, nan, nan, nan, nan, nan,\n",
              "       nan, nan, nan, nan, nan, nan, nan, nan, nan, nan, nan, nan, nan,\n",
              "       nan, nan, nan, nan, nan, nan, nan, nan, nan, nan, nan, nan, nan,\n",
              "       nan, nan, nan, nan, nan, nan, nan, nan, nan, nan, nan, nan, nan,\n",
              "       nan, nan, nan, nan, nan, nan, nan, nan, nan, nan, nan, nan, nan,\n",
              "       nan, nan, nan, nan, nan, nan, nan, nan, nan, nan, nan, nan, nan,\n",
              "       nan, nan, nan, nan, nan, nan, nan, nan, nan, nan, nan, nan, nan,\n",
              "       nan, nan, nan, nan, nan, nan, nan, nan, nan, nan, nan, nan, nan,\n",
              "       nan, nan, nan, nan, nan, nan, nan, nan, nan, nan, nan, nan, nan,\n",
              "       nan, nan, nan, nan, nan, nan, nan, nan, nan, nan, nan, nan, nan,\n",
              "       nan, nan, nan, nan, nan, nan, nan, nan, nan, nan, nan, nan, nan,\n",
              "       nan, nan, nan, nan, nan, nan, nan, nan, nan, nan, nan, nan, nan,\n",
              "       nan, nan, nan, nan, nan, nan, nan, nan, nan, nan, nan, nan, nan,\n",
              "       nan, nan])"
            ]
          },
          "metadata": {
            "tags": []
          },
          "execution_count": 37
        }
      ]
    },
    {
      "cell_type": "code",
      "metadata": {
        "id": "BAKyj983dwSM",
        "colab_type": "code",
        "colab": {}
      },
      "source": [
        "# Compare the two fleets.\n",
        "# You can create a permutation test function to do this. Check the lecture notes!"
      ],
      "execution_count": 0,
      "outputs": []
    },
    {
      "cell_type": "code",
      "metadata": {
        "id": "if-RY4aTd4CZ",
        "colab_type": "code",
        "colab": {}
      },
      "source": [
        ""
      ],
      "execution_count": 0,
      "outputs": []
    }
  ]
}
